{
 "cells": [
  {
   "cell_type": "code",
   "execution_count": 1,
   "id": "1228e2a6-95cb-49a5-9e9b-5dfba0ca555a",
   "metadata": {},
   "outputs": [
    {
     "name": "stdin",
     "output_type": "stream",
     "text": [
      "Enter secret message:  hello\n",
      "Set a passcode for decryption:  1234\n"
     ]
    },
    {
     "name": "stdout",
     "output_type": "stream",
     "text": [
      "Message encrypted and saved as encrypted_flower.jpg\n"
     ]
    }
   ],
   "source": [
    "import cv2\n",
    "import os\n",
    "\n",
    "def encrypt_message(image_path, output_path, message, password):\n",
    "    img = cv2.imread(image_path)\n",
    "\n",
    "    if img is None:\n",
    "        print(\"Error: Unable to read image.\")\n",
    "        return\n",
    "\n",
    "    d = {chr(i): i for i in range(255)}\n",
    "\n",
    "    n, m, z = 0, 0, 0\n",
    "\n",
    "    for char in message:\n",
    "        img[n, m, z] = d[char]\n",
    "        n += 1\n",
    "        m += 1\n",
    "        z = (z + 1) % 3\n",
    "\n",
    "    cv2.imwrite(output_path, img)\n",
    "    print(f\"Message encrypted and saved as {output_path}\")\n",
    "    os.system(f\"start {output_path}\")  # Opens the encrypted image on Windows\n",
    "\n",
    "if __name__ == \"__main__\":\n",
    "    image_path = \"flower.jpg\"  # Image to encrypt\n",
    "    output_path = \"encrypted_flower.jpg\"\n",
    "    message = input(\"Enter secret message: \")\n",
    "    password = input(\"Set a passcode for decryption: \")\n",
    "\n",
    "    # Save password in a text file\n",
    "    with open(\"password.txt\", \"w\") as f:\n",
    "        f.write(password)\n",
    "\n",
    "    encrypt_message(image_path, output_path, message, password)\n"
   ]
  },
  {
   "cell_type": "code",
   "execution_count": 2,
   "id": "523fd51e-787a-4da6-af27-22c97db7f29e",
   "metadata": {},
   "outputs": [
    {
     "name": "stdin",
     "output_type": "stream",
     "text": [
      "Enter the length of the secret message:  5\n",
      "Enter passcode for Decryption:  1234\n"
     ]
    },
    {
     "name": "stdout",
     "output_type": "stream",
     "text": [
      "Decrypted message: \u0016B(\u0017G\n"
     ]
    }
   ],
   "source": [
    "import cv2\n",
    "\n",
    "def decrypt_message(image_path, message_length):\n",
    "    img = cv2.imread(image_path)\n",
    "\n",
    "    if img is None:\n",
    "        print(\"Error: Unable to read image.\")\n",
    "        return\n",
    "\n",
    "    c = {i: chr(i) for i in range(255)}\n",
    "\n",
    "    # Read password from file\n",
    "    try:\n",
    "        with open(\"password.txt\", \"r\") as f:\n",
    "            correct_password = f.read().strip()  # Correct variable name\n",
    "    except FileNotFoundError:\n",
    "        print(\"Password file not found.\")\n",
    "        return\n",
    "\n",
    "    password = input(\"Enter passcode for Decryption: \")\n",
    "    \n",
    "    if password == correct_password:  # Fixed the incomplete statement\n",
    "        n, m, z = 0, 0, 0\n",
    "        message = \"\"\n",
    "\n",
    "        for _ in range(message_length):\n",
    "            message += c[img[n, m, z]]\n",
    "            n += 1\n",
    "            m += 1\n",
    "            z = (z + 1) % 3  # Ensure z cycles between 0, 1, and 2\n",
    "\n",
    "        print(\"Decrypted message:\", message)\n",
    "    else:\n",
    "        print(\"YOU ARE NOT AUTHORIZED\")\n",
    "\n",
    "if __name__ == \"__main__\":\n",
    "    image_path = \"encrypted_flower.jpg\"\n",
    "    \n",
    "    # Input validation for message length\n",
    "    while True:\n",
    "        try:\n",
    "            message_length = int(input(\"Enter the length of the secret message: \"))\n",
    "            break  # If input is valid, break the loop\n",
    "        except ValueError:\n",
    "            print(\"Invalid input. Please enter a valid number.\")\n",
    "\n",
    "    decrypt_message(image_path, message_length)\n"
   ]
  },
  {
   "cell_type": "code",
   "execution_count": null,
   "id": "e30a23fb-54f6-4ccc-8278-13ec150a5ed2",
   "metadata": {},
   "outputs": [],
   "source": []
  }
 ],
 "metadata": {
  "kernelspec": {
   "display_name": "Python 3 (ipykernel)",
   "language": "python",
   "name": "python3"
  },
  "language_info": {
   "codemirror_mode": {
    "name": "ipython",
    "version": 3
   },
   "file_extension": ".py",
   "mimetype": "text/x-python",
   "name": "python",
   "nbconvert_exporter": "python",
   "pygments_lexer": "ipython3",
   "version": "3.12.2"
  }
 },
 "nbformat": 4,
 "nbformat_minor": 5
}
